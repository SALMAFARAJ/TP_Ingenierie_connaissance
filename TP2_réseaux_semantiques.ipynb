{
 "cells": [
  {
   "cell_type": "markdown",
   "id": "2060a984-cbc5-470d-83d5-2e3d782d194f",
   "metadata": {},
   "source": [
    "# <div style=\" color:#5072A7; padding: 10px; font-size: 24px; font-weight: bold;  text-align: center;\">✦ TP2: Les réseaux sémantiques ✦ </div>"
   ]
  },
  {
   "cell_type": "markdown",
   "id": "7fe77586-fed5-42ae-b008-ae66d8a32a0c",
   "metadata": {},
   "source": [
    "<div>\n",
    "    <h2 style=\"text-align: left;\"><span style=\"letter-spacing: 2px;\">Réalisé par :</span></h2>\n",
    "   \n",
    "</div>\n",
    "\n",
    "<div style=\"text-align: left;\" >\n",
    "    <li>Salma FARAJ</li>\n",
    "  \n",
    "   \n",
    "</div>"
   ]
  },
  {
   "cell_type": "markdown",
   "id": "ca0d8436-2415-4a80-bba4-c5de8ccbc9ad",
   "metadata": {},
   "source": [
    "<h2 style=\" color:#428d8e;\">1\n",
    "ère Partie : Préparation de l’environnement et création du réseau</h2>  "
   ]
  },
  {
   "cell_type": "markdown",
   "id": "8378bf6f-fa3c-4472-b32a-9a52ef3893d1",
   "metadata": {},
   "source": [
    "#### Étape 1 : Préparation de l’environnement\n"
   ]
  },
  {
   "cell_type": "markdown",
   "id": "cc0edb21-d743-4711-a198-b455b2bacf2b",
   "metadata": {},
   "source": [
    "1. Installer les librairies nécessaires si elles ne le sont pas déjà :"
   ]
  },
  {
   "cell_type": "code",
   "execution_count": 95,
   "id": "48e3039a-8645-4ca6-89a4-754942a001b6",
   "metadata": {},
   "outputs": [
    {
     "name": "stdout",
     "output_type": "stream",
     "text": [
      "Requirement already satisfied: spacy in c:\\users\\salma\\appdata\\local\\programs\\python\\python311\\lib\\site-packages (3.8.0)\n",
      "Requirement already satisfied: networkx in c:\\users\\salma\\appdata\\local\\programs\\python\\python311\\lib\\site-packages (3.2.1)\n",
      "Requirement already satisfied: matplotlib in c:\\users\\salma\\appdata\\local\\programs\\python\\python311\\lib\\site-packages (3.9.2)\n",
      "Requirement already satisfied: spacy-legacy<3.1.0,>=3.0.11 in c:\\users\\salma\\appdata\\local\\programs\\python\\python311\\lib\\site-packages (from spacy) (3.0.12)\n",
      "Requirement already satisfied: spacy-loggers<2.0.0,>=1.0.0 in c:\\users\\salma\\appdata\\local\\programs\\python\\python311\\lib\\site-packages (from spacy) (1.0.5)\n",
      "Requirement already satisfied: murmurhash<1.1.0,>=0.28.0 in c:\\users\\salma\\appdata\\local\\programs\\python\\python311\\lib\\site-packages (from spacy) (1.0.10)\n",
      "Requirement already satisfied: cymem<2.1.0,>=2.0.2 in c:\\users\\salma\\appdata\\local\\programs\\python\\python311\\lib\\site-packages (from spacy) (2.0.8)\n",
      "Requirement already satisfied: preshed<3.1.0,>=3.0.2 in c:\\users\\salma\\appdata\\local\\programs\\python\\python311\\lib\\site-packages (from spacy) (3.0.9)\n",
      "Requirement already satisfied: thinc<8.3.0,>=8.2.2 in c:\\users\\salma\\appdata\\local\\programs\\python\\python311\\lib\\site-packages (from spacy) (8.2.5)\n",
      "Requirement already satisfied: wasabi<1.2.0,>=0.9.1 in c:\\users\\salma\\appdata\\local\\programs\\python\\python311\\lib\\site-packages (from spacy) (1.1.3)\n",
      "Requirement already satisfied: srsly<3.0.0,>=2.4.3 in c:\\users\\salma\\appdata\\local\\programs\\python\\python311\\lib\\site-packages (from spacy) (2.4.8)\n",
      "Requirement already satisfied: catalogue<2.1.0,>=2.0.6 in c:\\users\\salma\\appdata\\local\\programs\\python\\python311\\lib\\site-packages (from spacy) (2.0.10)\n",
      "Requirement already satisfied: weasel<0.5.0,>=0.1.0 in c:\\users\\salma\\appdata\\local\\programs\\python\\python311\\lib\\site-packages (from spacy) (0.4.1)\n",
      "Requirement already satisfied: typer<1.0.0,>=0.3.0 in c:\\users\\salma\\appdata\\local\\programs\\python\\python311\\lib\\site-packages (from spacy) (0.12.5)\n",
      "Requirement already satisfied: tqdm<5.0.0,>=4.38.0 in c:\\users\\salma\\appdata\\local\\programs\\python\\python311\\lib\\site-packages (from spacy) (4.66.6)\n",
      "Requirement already satisfied: requests<3.0.0,>=2.13.0 in c:\\users\\salma\\appdata\\local\\programs\\python\\python311\\lib\\site-packages (from spacy) (2.31.0)\n",
      "Requirement already satisfied: pydantic!=1.8,!=1.8.1,<3.0.0,>=1.7.4 in c:\\users\\salma\\appdata\\local\\programs\\python\\python311\\lib\\site-packages (from spacy) (2.9.2)\n",
      "Requirement already satisfied: jinja2 in c:\\users\\salma\\appdata\\local\\programs\\python\\python311\\lib\\site-packages (from spacy) (3.1.3)\n",
      "Requirement already satisfied: setuptools in c:\\users\\salma\\appdata\\local\\programs\\python\\python311\\lib\\site-packages (from spacy) (69.5.1)\n",
      "Requirement already satisfied: packaging>=20.0 in c:\\users\\salma\\appdata\\local\\programs\\python\\python311\\lib\\site-packages (from spacy) (22.0)\n",
      "Requirement already satisfied: langcodes<4.0.0,>=3.2.0 in c:\\users\\salma\\appdata\\local\\programs\\python\\python311\\lib\\site-packages (from spacy) (3.4.1)\n",
      "Requirement already satisfied: numpy>=1.19.0 in c:\\users\\salma\\appdata\\local\\programs\\python\\python311\\lib\\site-packages (from spacy) (1.26.4)\n",
      "Requirement already satisfied: contourpy>=1.0.1 in c:\\users\\salma\\appdata\\local\\programs\\python\\python311\\lib\\site-packages (from matplotlib) (1.0.6)\n",
      "Requirement already satisfied: cycler>=0.10 in c:\\users\\salma\\appdata\\local\\programs\\python\\python311\\lib\\site-packages (from matplotlib) (0.11.0)\n",
      "Requirement already satisfied: fonttools>=4.22.0 in c:\\users\\salma\\appdata\\local\\programs\\python\\python311\\lib\\site-packages (from matplotlib) (4.38.0)\n",
      "Requirement already satisfied: kiwisolver>=1.3.1 in c:\\users\\salma\\appdata\\local\\programs\\python\\python311\\lib\\site-packages (from matplotlib) (1.4.4)\n",
      "Requirement already satisfied: pillow>=8 in c:\\users\\salma\\appdata\\local\\programs\\python\\python311\\lib\\site-packages (from matplotlib) (9.4.0)\n",
      "Requirement already satisfied: pyparsing>=2.3.1 in c:\\users\\salma\\appdata\\local\\programs\\python\\python311\\lib\\site-packages (from matplotlib) (3.0.9)\n",
      "Requirement already satisfied: python-dateutil>=2.7 in c:\\users\\salma\\appdata\\local\\programs\\python\\python311\\lib\\site-packages (from matplotlib) (2.8.2)\n",
      "Requirement already satisfied: language-data>=1.2 in c:\\users\\salma\\appdata\\local\\programs\\python\\python311\\lib\\site-packages (from langcodes<4.0.0,>=3.2.0->spacy) (1.2.0)\n",
      "Requirement already satisfied: annotated-types>=0.6.0 in c:\\users\\salma\\appdata\\local\\programs\\python\\python311\\lib\\site-packages (from pydantic!=1.8,!=1.8.1,<3.0.0,>=1.7.4->spacy) (0.7.0)\n",
      "Requirement already satisfied: pydantic-core==2.23.4 in c:\\users\\salma\\appdata\\local\\programs\\python\\python311\\lib\\site-packages (from pydantic!=1.8,!=1.8.1,<3.0.0,>=1.7.4->spacy) (2.23.4)\n",
      "Requirement already satisfied: typing-extensions>=4.6.1 in c:\\users\\salma\\appdata\\local\\programs\\python\\python311\\lib\\site-packages (from pydantic!=1.8,!=1.8.1,<3.0.0,>=1.7.4->spacy) (4.12.0)\n",
      "Requirement already satisfied: six>=1.5 in c:\\users\\salma\\appdata\\local\\programs\\python\\python311\\lib\\site-packages (from python-dateutil>=2.7->matplotlib) (1.16.0)\n",
      "Requirement already satisfied: charset-normalizer<4,>=2 in c:\\users\\salma\\appdata\\local\\programs\\python\\python311\\lib\\site-packages (from requests<3.0.0,>=2.13.0->spacy) (2.1.1)\n",
      "Requirement already satisfied: idna<4,>=2.5 in c:\\users\\salma\\appdata\\local\\programs\\python\\python311\\lib\\site-packages (from requests<3.0.0,>=2.13.0->spacy) (3.4)\n",
      "Requirement already satisfied: urllib3<3,>=1.21.1 in c:\\users\\salma\\appdata\\local\\programs\\python\\python311\\lib\\site-packages (from requests<3.0.0,>=2.13.0->spacy) (1.26.13)\n",
      "Requirement already satisfied: certifi>=2017.4.17 in c:\\users\\salma\\appdata\\local\\programs\\python\\python311\\lib\\site-packages (from requests<3.0.0,>=2.13.0->spacy) (2022.12.7)\n",
      "Requirement already satisfied: blis<0.8.0,>=0.7.8 in c:\\users\\salma\\appdata\\local\\programs\\python\\python311\\lib\\site-packages (from thinc<8.3.0,>=8.2.2->spacy) (0.7.11)\n",
      "Requirement already satisfied: confection<1.0.0,>=0.0.1 in c:\\users\\salma\\appdata\\local\\programs\\python\\python311\\lib\\site-packages (from thinc<8.3.0,>=8.2.2->spacy) (0.1.5)\n",
      "Requirement already satisfied: colorama in c:\\users\\salma\\appdata\\roaming\\python\\python311\\site-packages (from tqdm<5.0.0,>=4.38.0->spacy) (0.4.6)\n",
      "Requirement already satisfied: click>=8.0.0 in c:\\users\\salma\\appdata\\local\\programs\\python\\python311\\lib\\site-packages (from typer<1.0.0,>=0.3.0->spacy) (8.1.7)\n",
      "Requirement already satisfied: shellingham>=1.3.0 in c:\\users\\salma\\appdata\\local\\programs\\python\\python311\\lib\\site-packages (from typer<1.0.0,>=0.3.0->spacy) (1.5.4)\n",
      "Requirement already satisfied: rich>=10.11.0 in c:\\users\\salma\\appdata\\local\\programs\\python\\python311\\lib\\site-packages (from typer<1.0.0,>=0.3.0->spacy) (13.7.1)\n",
      "Requirement already satisfied: cloudpathlib<1.0.0,>=0.7.0 in c:\\users\\salma\\appdata\\local\\programs\\python\\python311\\lib\\site-packages (from weasel<0.5.0,>=0.1.0->spacy) (0.20.0)\n",
      "Requirement already satisfied: smart-open<8.0.0,>=5.2.1 in c:\\users\\salma\\appdata\\local\\programs\\python\\python311\\lib\\site-packages (from weasel<0.5.0,>=0.1.0->spacy) (7.0.5)\n",
      "Requirement already satisfied: MarkupSafe>=2.0 in c:\\users\\salma\\appdata\\local\\programs\\python\\python311\\lib\\site-packages (from jinja2->spacy) (2.1.5)\n",
      "Requirement already satisfied: marisa-trie>=0.7.7 in c:\\users\\salma\\appdata\\local\\programs\\python\\python311\\lib\\site-packages (from language-data>=1.2->langcodes<4.0.0,>=3.2.0->spacy) (1.2.1)\n",
      "Requirement already satisfied: markdown-it-py>=2.2.0 in c:\\users\\salma\\appdata\\local\\programs\\python\\python311\\lib\\site-packages (from rich>=10.11.0->typer<1.0.0,>=0.3.0->spacy) (3.0.0)\n",
      "Requirement already satisfied: pygments<3.0.0,>=2.13.0 in c:\\users\\salma\\appdata\\roaming\\python\\python311\\site-packages (from rich>=10.11.0->typer<1.0.0,>=0.3.0->spacy) (2.16.1)\n",
      "Requirement already satisfied: wrapt in c:\\users\\salma\\appdata\\local\\programs\\python\\python311\\lib\\site-packages (from smart-open<8.0.0,>=5.2.1->weasel<0.5.0,>=0.1.0->spacy) (1.16.0)\n",
      "Requirement already satisfied: mdurl~=0.1 in c:\\users\\salma\\appdata\\local\\programs\\python\\python311\\lib\\site-packages (from markdown-it-py>=2.2.0->rich>=10.11.0->typer<1.0.0,>=0.3.0->spacy) (0.1.2)\n",
      "Note: you may need to restart the kernel to use updated packages.\n"
     ]
    }
   ],
   "source": [
    "pip install spacy networkx matplotlib"
   ]
  },
  {
   "cell_type": "markdown",
   "id": "f4a3aec6-d457-4390-aa4d-ddba0e05811b",
   "metadata": {},
   "source": [
    "#### Étape 2 : Importer les bibliothèques"
   ]
  },
  {
   "cell_type": "code",
   "execution_count": 96,
   "id": "9f9e3fc6-2caa-45ad-a9f4-ed82dc09c285",
   "metadata": {},
   "outputs": [],
   "source": [
    "import spacy\n",
    "import networkx as nx\n",
    "import matplotlib.pyplot as plt\n",
    "from itertools import combinations"
   ]
  },
  {
   "cell_type": "markdown",
   "id": "3eff44e9-8b28-4750-8b01-40331ae7ebf7",
   "metadata": {},
   "source": [
    "#### Étape 3 : Chargement du modèle de langue et du texte"
   ]
  },
  {
   "cell_type": "code",
   "execution_count": 97,
   "id": "b844264b-7830-4ffe-ad0d-86d4238b5050",
   "metadata": {},
   "outputs": [],
   "source": [
    "# Charger le modèle de spaCy\n",
    "nlp = spacy.load(\"en_core_web_sm\")\n",
    "\n",
    "# Exemple de texte (vous pouvez en utiliser un plus long pour le TP complet)\n",
    "text = \"\"\"\n",
    "Artificial intelligence and machine learning are closely related fields.\n",
    "Deep learning is a subset of machine learning that uses neural networks.\n",
    "Natural language processing is a key application of artificial intelligence.\n",
    "\"\"\"\n",
    "\n",
    "doc = nlp(text)\n"
   ]
  },
  {
   "cell_type": "markdown",
   "id": "91364553-740a-41a1-8b19-fcc8d2978b7a",
   "metadata": {},
   "source": [
    "#### Étape 4 : Extraction des entités et des relations"
   ]
  },
  {
   "cell_type": "code",
   "execution_count": 98,
   "id": "7b594fca-00c4-4f29-8364-220518fe7439",
   "metadata": {},
   "outputs": [
    {
     "name": "stdout",
     "output_type": "stream",
     "text": [
      "\n",
      "Entités extraites:\n",
      "- \n",
      "Artificial intelligence\n",
      "- machine learning\n",
      "- a subset\n",
      "- closely related fields\n",
      "- neural networks\n",
      "- Deep learning\n",
      "- Natural language processing\n",
      "- artificial intelligence\n",
      "- a key application\n",
      "\n",
      "Relations extraites:\n",
      "- \n",
      "Artificial intelligence <--> closely related fields\n",
      "- a subset <--> machine learning\n",
      "- machine learning <--> closely related fields\n",
      "- a subset <--> neural networks\n",
      "- Natural language processing <--> artificial intelligence\n",
      "- Deep learning <--> machine learning\n",
      "- Deep learning <--> neural networks\n",
      "- Deep learning <--> a subset\n",
      "- machine learning <--> neural networks\n",
      "- a key application <--> artificial intelligence\n",
      "- \n",
      "Artificial intelligence <--> machine learning\n",
      "- Natural language processing <--> a key application\n"
     ]
    }
   ],
   "source": [
    "# Initialisation des listes pour stocker les entités et les relations\n",
    "entities = []\n",
    "relations = []\n",
    "\n",
    "# Extraction des entités nommées et des groupes nominaux pour les relations par co-occurrence\n",
    "for sentence in doc.sents:\n",
    "    ents_in_sentence = []\n",
    "    \n",
    "    # Ajout des entités nommées\n",
    "    for ent in sentence.ents:\n",
    "        ents_in_sentence.append(ent.text)\n",
    "    \n",
    "    # Ajout des groupes nominaux importants\n",
    "    for chunk in sentence.noun_chunks:\n",
    "        if not any(ent == chunk.text for ent in ents_in_sentence):\n",
    "            if len(chunk.text.split()) > 1:  # On garde les groupes de mots\n",
    "                ents_in_sentence.append(chunk.text)\n",
    "    \n",
    "    # Ajout des entités à la liste globale\n",
    "    entities.extend(ents_in_sentence)\n",
    "    \n",
    "    # Création des relations par co-occurrence\n",
    "    for ent1, ent2 in combinations(ents_in_sentence, 2):\n",
    "        relations.append((ent1, ent2))\n",
    "\n",
    "# Suppression des doublons\n",
    "entities = list(set(entities))\n",
    "relations = list(set(relations))\n",
    "\n",
    "# Affichage des entités et relations extraites\n",
    "print(\"\\nEntités extraites:\")\n",
    "for e in entities:\n",
    "    print(f\"- {e}\")\n",
    "\n",
    "print(\"\\nRelations extraites:\")\n",
    "for r in relations:\n",
    "    print(f\"- {r[0]} <--> {r[1]}\")"
   ]
  },
  {
   "cell_type": "markdown",
   "id": "7925eb2d-787a-42fe-98dc-07a441ff1153",
   "metadata": {},
   "source": [
    "#### Étape 5 : Création du graphe sémantique"
   ]
  },
  {
   "cell_type": "code",
   "execution_count": 99,
   "id": "013ed200-b6ac-4c8d-9fad-747bfff9832b",
   "metadata": {},
   "outputs": [
    {
     "name": "stdout",
     "output_type": "stream",
     "text": [
      "\n",
      "Analyse du réseau:\n",
      "Nombre de nœuds: 9\n",
      "Nombre d'arêtes: 12\n",
      "Densité du réseau: 0.333\n"
     ]
    }
   ],
   "source": [
    "# Création du graphe sémantique\n",
    "G = nx.Graph()\n",
    "G.add_nodes_from(entities)\n",
    "G.add_edges_from(relations)\n",
    "\n",
    "# Calcul des métriques de centralité\n",
    "degree_centrality = nx.degree_centrality(G)\n",
    "betweenness_centrality = nx.betweenness_centrality(G)\n",
    "closeness_centrality = nx.closeness_centrality(G)\n",
    "\n",
    "# Affichage des informations de l'analyse du réseau\n",
    "print(\"\\nAnalyse du réseau:\")\n",
    "print(f\"Nombre de nœuds: {G.number_of_nodes()}\")\n",
    "print(f\"Nombre d'arêtes: {G.number_of_edges()}\")\n",
    "print(f\"Densité du réseau: {nx.density(G):.3f}\")"
   ]
  },
  {
   "cell_type": "markdown",
   "id": "df4564b1-c77b-4f87-b53d-ee6a7de799a3",
   "metadata": {},
   "source": [
    "#### Étape 6 : Visualisation du graphe"
   ]
  },
  {
   "cell_type": "code",
   "execution_count": 100,
   "id": "191a4359-01b4-4026-b685-49bc45cbb47b",
   "metadata": {},
   "outputs": [
    {
     "name": "stderr",
     "output_type": "stream",
     "text": [
      "C:\\Users\\SALMA\\AppData\\Local\\Temp\\ipykernel_12020\\1188799878.py:20: UserWarning:\n",
      "\n",
      "This figure includes Axes that are not compatible with tight_layout, so results might be incorrect.\n",
      "\n"
     ]
    },
    {
     "data": {
      "image/png": "[encoded data removed]",
      "text/plain": [
       "<Figure size 1200x800 with 1 Axes>"
      ]
     },
     "metadata": {},
     "output_type": "display_data"
    }
   ],
   "source": [
    "# Visualisation du réseau sémantique\n",
    "plt.figure(figsize=(12, 8))\n",
    "pos = nx.spring_layout(G, k=1, iterations=50)\n",
    "\n",
    "# Taille des nœuds basée sur leur centralité\n",
    "node_sizes = [v * 3000 for v in degree_centrality.values()]\n",
    "\n",
    "# Dessin du graphe\n",
    "nx.draw(G, pos,\n",
    "        node_color='lightblue',\n",
    "        node_size=node_sizes,\n",
    "        edge_color='gray',\n",
    "        alpha=0.6,\n",
    "        with_labels=True,\n",
    "        font_size=8,\n",
    "        font_weight='bold')\n",
    "\n",
    "plt.title(\"Réseau Sémantique du Texte\")\n",
    "plt.axis('off')\n",
    "plt.tight_layout()\n",
    "plt.show()"
   ]
  },
  {
   "cell_type": "markdown",
   "id": "eda1423e-b756-450d-a2e9-c8e42baee3a7",
   "metadata": {},
   "source": [
    "<h2 style=\" color:#428d8e;\">2\n",
    "ème Partie : Exploitation avancée du réseau</h2>  "
   ]
  },
  {
   "cell_type": "markdown",
   "id": "f5d006cc-619e-4aaa-aae0-39b8e21214ec",
   "metadata": {},
   "source": [
    "1. Utiliser un corpus plus large pour voir comment le réseau évolue."
   ]
  },
  {
   "cell_type": "code",
   "execution_count": 101,
   "id": "286e4598-7e2c-4d1f-af98-a4532fdf731c",
   "metadata": {},
   "outputs": [
    {
     "name": "stdout",
     "output_type": "stream",
     "text": [
      "Entités extraites : ['Albert Einstein', 'Albert Einstein', 'the University of Berlin', 'the Institute for Advanced Study', 'Princeton', 'New Jersey', 'the Nobel Prize in Physics']\n",
      "Relations extraites : [('Albert Einstein', 'the University of Berlin'), ('Albert Einstein', 'the Institute for Advanced Study'), ('Albert Einstein', 'Princeton'), ('Albert Einstein', 'New Jersey'), ('Albert Einstein', 'the Nobel Prize in Physics'), ('Albert Einstein', 'the University of Berlin'), ('Albert Einstein', 'the Institute for Advanced Study'), ('Albert Einstein', 'Princeton'), ('Albert Einstein', 'New Jersey'), ('Albert Einstein', 'the Nobel Prize in Physics'), ('the University of Berlin', 'Albert Einstein'), ('the University of Berlin', 'Albert Einstein'), ('the University of Berlin', 'the Institute for Advanced Study'), ('the University of Berlin', 'Princeton'), ('the University of Berlin', 'New Jersey'), ('the University of Berlin', 'the Nobel Prize in Physics'), ('the Institute for Advanced Study', 'Albert Einstein'), ('the Institute for Advanced Study', 'Albert Einstein'), ('the Institute for Advanced Study', 'the University of Berlin'), ('the Institute for Advanced Study', 'Princeton'), ('the Institute for Advanced Study', 'New Jersey'), ('the Institute for Advanced Study', 'the Nobel Prize in Physics'), ('Princeton', 'Albert Einstein'), ('Princeton', 'Albert Einstein'), ('Princeton', 'the University of Berlin'), ('Princeton', 'the Institute for Advanced Study'), ('Princeton', 'New Jersey'), ('Princeton', 'the Nobel Prize in Physics'), ('New Jersey', 'Albert Einstein'), ('New Jersey', 'Albert Einstein'), ('New Jersey', 'the University of Berlin'), ('New Jersey', 'the Institute for Advanced Study'), ('New Jersey', 'Princeton'), ('New Jersey', 'the Nobel Prize in Physics'), ('the Nobel Prize in Physics', 'Albert Einstein'), ('the Nobel Prize in Physics', 'Albert Einstein'), ('the Nobel Prize in Physics', 'the University of Berlin'), ('the Nobel Prize in Physics', 'the Institute for Advanced Study'), ('the Nobel Prize in Physics', 'Princeton'), ('the Nobel Prize in Physics', 'New Jersey')]\n"
     ]
    }
   ],
   "source": [
    "# Charger un modèle de langue\n",
    "nlp = spacy.load('en_core_web_sm')\n",
    "\n",
    "# Appliquer le modèle à un texte plus long (ex. un article Wikipedia)\n",
    "text = \"\"\"\n",
    "Albert Einstein is known for his theory of relativity, which transformed the understanding of space and time. Albert Einstein worked at prestigious institutions, including the University of Berlin and the Institute for Advanced Study in Princeton, New Jersey. He received the Nobel Prize in Physics for his work on the photoelectric effect. His contributions have greatly influenced the fields of physics, mathematics, and philosophy.\n",
    "\"\"\"\n",
    "# Traitement du texte\n",
    "doc = nlp(text)\n",
    "\n",
    "# Extraire les entités nommées\n",
    "entities = [ent.text for ent in doc.ents]\n",
    "\n",
    "# Créer un réseau de relations entre les entités\n",
    "relations = [(ent1, ent2) for ent1 in entities for ent2 in entities if ent1 != ent2]\n",
    "\n",
    "print(\"Entités extraites :\",entities)\n",
    "print(\"Relations extraites :\",relations)\n"
   ]
  },
  {
   "cell_type": "markdown",
   "id": "8dee90cf-b3b8-40d9-9c5a-1c2a49df27b3",
   "metadata": {},
   "source": [
    "2. Explorer des méthodes avancées de détection de relations, telles que les dépendances\n",
    "syntaxiques."
   ]
  },
  {
   "cell_type": "code",
   "execution_count": 102,
   "id": "830c428b-4125-49cc-a7ff-8742ad1fcdd6",
   "metadata": {},
   "outputs": [
    {
     "name": "stdout",
     "output_type": "stream",
     "text": [
      "Relations extraites : [('Albert Einstein', 'the University of Berlin'), ('Albert Einstein', 'the Institute for Advanced Study'), ('Albert Einstein', 'Princeton'), ('Albert Einstein', 'New Jersey'), ('Albert Einstein', 'the Nobel Prize in Physics'), ('Albert Einstein', 'the University of Berlin'), ('Albert Einstein', 'the Institute for Advanced Study'), ('Albert Einstein', 'Princeton'), ('Albert Einstein', 'New Jersey'), ('Albert Einstein', 'the Nobel Prize in Physics'), ('the University of Berlin', 'Albert Einstein'), ('the University of Berlin', 'Albert Einstein'), ('the University of Berlin', 'the Institute for Advanced Study'), ('the University of Berlin', 'Princeton'), ('the University of Berlin', 'New Jersey'), ('the University of Berlin', 'the Nobel Prize in Physics'), ('the Institute for Advanced Study', 'Albert Einstein'), ('the Institute for Advanced Study', 'Albert Einstein'), ('the Institute for Advanced Study', 'the University of Berlin'), ('the Institute for Advanced Study', 'Princeton'), ('the Institute for Advanced Study', 'New Jersey'), ('the Institute for Advanced Study', 'the Nobel Prize in Physics'), ('Princeton', 'Albert Einstein'), ('Princeton', 'Albert Einstein'), ('Princeton', 'the University of Berlin'), ('Princeton', 'the Institute for Advanced Study'), ('Princeton', 'New Jersey'), ('Princeton', 'the Nobel Prize in Physics'), ('New Jersey', 'Albert Einstein'), ('New Jersey', 'Albert Einstein'), ('New Jersey', 'the University of Berlin'), ('New Jersey', 'the Institute for Advanced Study'), ('New Jersey', 'Princeton'), ('New Jersey', 'the Nobel Prize in Physics'), ('the Nobel Prize in Physics', 'Albert Einstein'), ('the Nobel Prize in Physics', 'Albert Einstein'), ('the Nobel Prize in Physics', 'the University of Berlin'), ('the Nobel Prize in Physics', 'the Institute for Advanced Study'), ('the Nobel Prize in Physics', 'Princeton'), ('the Nobel Prize in Physics', 'New Jersey'), ('which', 'transformed', 'understanding'), ('institutions', 'has_property', 'prestigious'), ('He', 'received', 'Prize'), ('effect', 'has_property', 'photoelectric'), ('contributions', 'influenced', 'fields')]\n"
     ]
    }
   ],
   "source": [
    "for token in doc:\n",
    "    # Identifier les relations sujet-verbe-objet\n",
    "    if token.dep_ == \"nsubj\" and token.head.pos_ == \"VERB\":\n",
    "        subj = token.text\n",
    "        verb = token.head.text\n",
    "        # Vérifier s'il y a un objet associé\n",
    "        for child in token.head.children:\n",
    "            if child.dep_ == \"dobj\":\n",
    "                obj = child.text\n",
    "                relations.append((subj, verb, obj))\n",
    "    \n",
    "    # Identifier les relations attributives\n",
    "    if token.dep_ == \"attr\" and token.head.pos_ == \"VERB\":\n",
    "        subject = [child.text for child in token.head.lefts if child.dep_ == \"nsubj\"]\n",
    "        if subject:\n",
    "            relations.append((subject[0], token.head.text, token.text))\n",
    "    \n",
    "    # Capturer les adjectifs pour les descriptions\n",
    "    if token.dep_ == \"amod\":\n",
    "        relations.append((token.head.text, \"has_property\", token.text))\n",
    "\n",
    "# Afficher les relations extraites\n",
    "print(\"Relations extraites :\",relations)\n"
   ]
  },
  {
   "cell_type": "markdown",
   "id": "0d3acb77-ce88-48ea-90da-6cd7039c4109",
   "metadata": {},
   "source": [
    "3. Appliquer une mesure de similarité pour connecter les concepts liés sémantiquement mais non explicitement co-mentionnés."
   ]
  },
  {
   "cell_type": "code",
   "execution_count": 103,
   "id": "48b130d1-0e7a-4e97-9186-1b701ab4b9ba",
   "metadata": {},
   "outputs": [
    {
     "name": "stderr",
     "output_type": "stream",
     "text": [
      "C:\\Users\\SALMA\\AppData\\Local\\Temp\\ipykernel_12020\\1905279539.py:13: UserWarning:\n",
      "\n",
      "[W007] The model you're using has no word vectors loaded, so the result of the Doc.similarity method will be based on the tagger, parser and NER, which may not give useful similarity judgements. This may happen if you're using one of the small models, e.g. `en_core_web_sm`, which don't ship with word vectors and only use context-sensitive tensors. You can always add your own word vectors, or use one of the larger models instead if available.\n",
      "\n"
     ]
    },
    {
     "name": "stdout",
     "output_type": "stream",
     "text": [
      "the Nobel Prize in Physics - similar_to -> the Institute for Advanced Study (similarité: 0.84)\n",
      "Albert Einstein - similar_to -> New Jersey (similarité: 0.77)\n",
      "the University of Berlin - similar_to -> the Institute for Advanced Study (similarité: 0.72)\n"
     ]
    }
   ],
   "source": [
    "# Extraire les entités nommées\n",
    "entities = list(set([ent.text for ent in doc.ents]))\n",
    "\n",
    "# Calculer les similarités entre toutes les paires d'entités\n",
    "similarity_threshold = 0.7  # Seuil de similarité\n",
    "similarity_relations = []\n",
    "\n",
    "for ent1, ent2 in combinations(entities, 2):\n",
    "    ent1_nlp = nlp(ent1)\n",
    "    ent2_nlp = nlp(ent2)\n",
    "    \n",
    "    # Calculer la similarité cosinus entre les vecteurs des entités\n",
    "    similarity = ent1_nlp.similarity(ent2_nlp)\n",
    "    \n",
    "    # Vérifier si la similarité dépasse le seuil\n",
    "    if similarity >= similarity_threshold:\n",
    "        similarity_relations.append((ent1, \"similar_to\", ent2, similarity))\n",
    "# Filtrer les relations similaires pour éviter les doublons\n",
    "filtered_relations = []\n",
    "seen_pairs = set()\n",
    "\n",
    "for src, rel, tgt, weight in similarity_relations:\n",
    "    if (src, tgt) not in seen_pairs and (tgt, src) not in seen_pairs:\n",
    "        filtered_relations.append((src, rel, tgt, weight))  # Garder également le poids (similarité)\n",
    "        seen_pairs.add((src, tgt))\n",
    "        # Afficher la similarité calculée\n",
    "        print(f\"{src} - {rel} -> {tgt} (similarité: {weight:.2f})\")\n",
    "\n",
    "        # Préparer les éléments pour le graphique (nœuds et arêtes)\n",
    "nodes = [{\"data\": {\"id\": concept, \"label\": concept}} for concept in entities]\n",
    "\n",
    "# Créer les arêtes avec les relations filtrées, sans modification de poids\n",
    "edges = [{\"data\": {\"source\": src, \"target\": tgt}} for src, _, tgt, _ in filtered_relations]\n"
   ]
  },
  {
   "cell_type": "markdown",
   "id": "dfd8a672-c4bf-4c65-a1ff-2e0522711d7e",
   "metadata": {},
   "source": [
    "4. Créer une interface graphique pour naviguer dans le réseau sémantique et visualiser les relations entre les concepts"
   ]
  },
  {
   "cell_type": "code",
   "execution_count": 105,
   "id": "e92f0e8d-0369-452a-9ffd-df555424d69c",
   "metadata": {},
   "outputs": [
    {
     "data": {
      "text/html": [
       "\n",
       "        <iframe\n",
       "            width=\"100%\"\n",
       "            height=\"650\"\n",
       "            src=\"http://127.0.0.1:8050/\"\n",
       "            frameborder=\"0\"\n",
       "            allowfullscreen\n",
       "            \n",
       "        ></iframe>\n",
       "        "
      ],
      "text/plain": [
       "<IPython.lib.display.IFrame at 0x112f6584b50>"
      ]
     },
     "metadata": {},
     "output_type": "display_data"
    }
   ],
   "source": [
    "# Importer les bibliothèques nécessaires\n",
    "import dash\n",
    "from dash import html\n",
    "import dash_cytoscape as cyto\n",
    "\n",
    "# Créer l'application Dash\n",
    "app = dash.Dash(__name__)  # Remarquez __name__ au lieu de _name_\n",
    "\n",
    "# Définir la mise en page de l'application\n",
    "app.layout = html.Div([\n",
    "    cyto.Cytoscape(\n",
    "        id='cytoscape-layout',\n",
    "        elements=nodes + edges,  # Assurez-vous que nodes et edges sont définis\n",
    "        layout={'name': 'circle'},  # Disposition simple en cercle\n",
    "        style={'width': '100%', 'height': '600px'},\n",
    "        stylesheet=[\n",
    "            {'selector': 'node', \n",
    "             'style': {'content': 'data(label)', 'background-color': '#0074D9', 'color': 'black', 'text-valign': 'center', 'text-halign': 'center'}},  # Style des nœuds\n",
    "            {'selector': 'edge', \n",
    "             'style': {'line-color': '#7FDBFF', 'width': 2}}  # Style des arêtes\n",
    "        ]\n",
    "    )\n",
    "])\n",
    "\n",
    "# Lancer l'application\n",
    "if __name__ == '__main__':  # Remarquez la correction ici : __name__ au lieu de _name_\n",
    "    app.run_server(debug=True)\n"
   ]
  },
  {
   "cell_type": "markdown",
   "id": "3d9f7046-a2e9-44b2-9ebd-6258323a7825",
   "metadata": {},
   "source": [
    "# <div style=\" color:#5072A7; padding: 10px; font-size: 24px; font-weight: bold;  text-align: center;\">✦ FIN ✦ </div>"
   ]
  }
 ],
 "metadata": {
  "kernelspec": {
   "display_name": "Python 3 (ipykernel)",
   "language": "python",
   "name": "python3"
  },
  "language_info": {
   "codemirror_mode": {
    "name": "ipython",
    "version": 3
   },
   "file_extension": ".py",
   "mimetype": "text/x-python",
   "name": "python",
   "nbconvert_exporter": "python",
   "pygments_lexer": "ipython3",
   "version": "3.11.0rc2"
  }
 },
 "nbformat": 4,
 "nbformat_minor": 5
}
